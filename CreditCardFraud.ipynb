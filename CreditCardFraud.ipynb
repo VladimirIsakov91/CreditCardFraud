{
 "cells": [
  {
   "cell_type": "code",
   "execution_count": 1,
   "metadata": {
    "collapsed": true
   },
   "outputs": [],
   "source": [
    "%load_ext autoreload\n",
    "%autoreload 2"
   ]
  },
  {
   "cell_type": "code",
   "execution_count": 9,
   "outputs": [],
   "source": [
    "from dask import compute\n",
    "import dask.dataframe as dd\n",
    "import matplotlib.pyplot as plt\n",
    "import seaborn as sns\n",
    "sns.set(style=\"darkgrid\")"
   ],
   "metadata": {
    "collapsed": false,
    "pycharm": {
     "name": "#%%\n"
    }
   }
  },
  {
   "cell_type": "code",
   "execution_count": 42,
   "outputs": [
    {
     "data": {
      "text/plain": "   Time        V1        V2        V3        V4        V5        V6        V7  \\\n0     0 -1.359807 -0.072781  2.536347  1.378155 -0.338321  0.462388  0.239599   \n1     0  1.191857  0.266151  0.166480  0.448154  0.060018 -0.082361 -0.078803   \n2     1 -1.358354 -1.340163  1.773209  0.379780 -0.503198  1.800499  0.791461   \n3     1 -0.966272 -0.185226  1.792993 -0.863291 -0.010309  1.247203  0.237609   \n4     2 -1.158233  0.877737  1.548718  0.403034 -0.407193  0.095921  0.592941   \n\n         V8        V9  ...       V21       V22       V23       V24       V25  \\\n0  0.098698  0.363787  ... -0.018307  0.277838 -0.110474  0.066928  0.128539   \n1  0.085102 -0.255425  ... -0.225775 -0.638672  0.101288 -0.339846  0.167170   \n2  0.247676 -1.514654  ...  0.247998  0.771679  0.909412 -0.689281 -0.327642   \n3  0.377436 -1.387024  ... -0.108300  0.005274 -0.190321 -1.175575  0.647376   \n4 -0.270533  0.817739  ... -0.009431  0.798279 -0.137458  0.141267 -0.206010   \n\n        V26       V27       V28      Amount  Class  \n0 -0.189115  0.133558 -0.021053  149.619995      0  \n1  0.125895 -0.008983  0.014724    2.690000      0  \n2 -0.139097 -0.055353 -0.059752  378.660004      0  \n3 -0.221929  0.062723  0.061458  123.500000      0  \n4  0.502292  0.219422  0.215153   69.989998      0  \n\n[5 rows x 31 columns]",
      "text/html": "<div>\n<style scoped>\n    .dataframe tbody tr th:only-of-type {\n        vertical-align: middle;\n    }\n\n    .dataframe tbody tr th {\n        vertical-align: top;\n    }\n\n    .dataframe thead th {\n        text-align: right;\n    }\n</style>\n<table border=\"1\" class=\"dataframe\">\n  <thead>\n    <tr style=\"text-align: right;\">\n      <th></th>\n      <th>Time</th>\n      <th>V1</th>\n      <th>V2</th>\n      <th>V3</th>\n      <th>V4</th>\n      <th>V5</th>\n      <th>V6</th>\n      <th>V7</th>\n      <th>V8</th>\n      <th>V9</th>\n      <th>...</th>\n      <th>V21</th>\n      <th>V22</th>\n      <th>V23</th>\n      <th>V24</th>\n      <th>V25</th>\n      <th>V26</th>\n      <th>V27</th>\n      <th>V28</th>\n      <th>Amount</th>\n      <th>Class</th>\n    </tr>\n  </thead>\n  <tbody>\n    <tr>\n      <th>0</th>\n      <td>0</td>\n      <td>-1.359807</td>\n      <td>-0.072781</td>\n      <td>2.536347</td>\n      <td>1.378155</td>\n      <td>-0.338321</td>\n      <td>0.462388</td>\n      <td>0.239599</td>\n      <td>0.098698</td>\n      <td>0.363787</td>\n      <td>...</td>\n      <td>-0.018307</td>\n      <td>0.277838</td>\n      <td>-0.110474</td>\n      <td>0.066928</td>\n      <td>0.128539</td>\n      <td>-0.189115</td>\n      <td>0.133558</td>\n      <td>-0.021053</td>\n      <td>149.619995</td>\n      <td>0</td>\n    </tr>\n    <tr>\n      <th>1</th>\n      <td>0</td>\n      <td>1.191857</td>\n      <td>0.266151</td>\n      <td>0.166480</td>\n      <td>0.448154</td>\n      <td>0.060018</td>\n      <td>-0.082361</td>\n      <td>-0.078803</td>\n      <td>0.085102</td>\n      <td>-0.255425</td>\n      <td>...</td>\n      <td>-0.225775</td>\n      <td>-0.638672</td>\n      <td>0.101288</td>\n      <td>-0.339846</td>\n      <td>0.167170</td>\n      <td>0.125895</td>\n      <td>-0.008983</td>\n      <td>0.014724</td>\n      <td>2.690000</td>\n      <td>0</td>\n    </tr>\n    <tr>\n      <th>2</th>\n      <td>1</td>\n      <td>-1.358354</td>\n      <td>-1.340163</td>\n      <td>1.773209</td>\n      <td>0.379780</td>\n      <td>-0.503198</td>\n      <td>1.800499</td>\n      <td>0.791461</td>\n      <td>0.247676</td>\n      <td>-1.514654</td>\n      <td>...</td>\n      <td>0.247998</td>\n      <td>0.771679</td>\n      <td>0.909412</td>\n      <td>-0.689281</td>\n      <td>-0.327642</td>\n      <td>-0.139097</td>\n      <td>-0.055353</td>\n      <td>-0.059752</td>\n      <td>378.660004</td>\n      <td>0</td>\n    </tr>\n    <tr>\n      <th>3</th>\n      <td>1</td>\n      <td>-0.966272</td>\n      <td>-0.185226</td>\n      <td>1.792993</td>\n      <td>-0.863291</td>\n      <td>-0.010309</td>\n      <td>1.247203</td>\n      <td>0.237609</td>\n      <td>0.377436</td>\n      <td>-1.387024</td>\n      <td>...</td>\n      <td>-0.108300</td>\n      <td>0.005274</td>\n      <td>-0.190321</td>\n      <td>-1.175575</td>\n      <td>0.647376</td>\n      <td>-0.221929</td>\n      <td>0.062723</td>\n      <td>0.061458</td>\n      <td>123.500000</td>\n      <td>0</td>\n    </tr>\n    <tr>\n      <th>4</th>\n      <td>2</td>\n      <td>-1.158233</td>\n      <td>0.877737</td>\n      <td>1.548718</td>\n      <td>0.403034</td>\n      <td>-0.407193</td>\n      <td>0.095921</td>\n      <td>0.592941</td>\n      <td>-0.270533</td>\n      <td>0.817739</td>\n      <td>...</td>\n      <td>-0.009431</td>\n      <td>0.798279</td>\n      <td>-0.137458</td>\n      <td>0.141267</td>\n      <td>-0.206010</td>\n      <td>0.502292</td>\n      <td>0.219422</td>\n      <td>0.215153</td>\n      <td>69.989998</td>\n      <td>0</td>\n    </tr>\n  </tbody>\n</table>\n<p>5 rows × 31 columns</p>\n</div>"
     },
     "execution_count": 42,
     "metadata": {},
     "output_type": "execute_result"
    }
   ],
   "source": [
    "dtypes = {'V1': 'float32', 'V2': 'float32', 'V3': 'float32', 'V4': 'float32', 'V5': 'float32', 'V6': 'float32',\n",
    "          'V7': 'float32', 'V8': 'float32', 'V9': 'float32', 'V10': 'float32', 'V11': 'float32', 'V12': 'float32',\n",
    "          'V13': 'float32', 'V14': 'float32', 'V15': 'float32', 'V16': 'float32', 'V17': 'float32', 'V18': 'float32',\n",
    "          'V19': 'float32', 'V20': 'float32', 'V21': 'float32', 'V22': 'float32', 'V23': 'float32', 'V24': 'float32',\n",
    "          'V25': 'float32', 'V26': 'float32', 'V27': 'float32', 'V28': 'float32', 'Time': 'int32', 'Amount': 'float32',\n",
    "          'Class': 'int32'}\n",
    "data = dd.read_csv('./data/creditcard.csv', dtype=dtypes)\n",
    "data.head()"
   ],
   "metadata": {
    "collapsed": false,
    "pycharm": {
     "name": "#%%\n"
    }
   }
  },
  {
   "cell_type": "code",
   "execution_count": 43,
   "outputs": [
    {
     "name": "stdout",
     "output_type": "stream",
     "text": [
      "<class 'dask.dataframe.core.DataFrame'>\n",
      "Columns: 31 entries, Time to Class\n",
      "dtypes: float32(29), int32(2)"
     ]
    }
   ],
   "source": [
    "data.info()"
   ],
   "metadata": {
    "collapsed": false,
    "pycharm": {
     "name": "#%%\n"
    }
   }
  },
  {
   "cell_type": "code",
   "execution_count": 44,
   "outputs": [
    {
     "data": {
      "text/plain": "(                Time            V1            V2            V3            V4  \\\n count  284807.000000  2.848070e+05  2.848070e+05  2.848070e+05  2.848070e+05   \n mean    94813.859575 -2.237832e-10  5.639038e-11  5.718183e-11 -5.515661e-11   \n std     47488.145955  1.958696e+00  1.651309e+00  1.516255e+00  1.415869e+00   \n min         0.000000 -5.640751e+01 -7.271573e+01 -4.832559e+01 -5.683171e+00   \n 25%     49346.000000 -7.868600e-01 -5.536365e-01 -7.156553e-01 -7.067841e-01   \n 50%     94872.000000  9.301532e-02  8.999754e-02  1.743346e-01  1.809941e-01   \n 75%    165830.000000  1.984825e+00  8.916958e-01  1.373682e+00  1.012508e+00   \n max    172792.000000  2.454930e+00  2.205773e+01  9.382559e+00  1.687534e+01   \n \n                  V5            V6            V7            V8            V9  \\\n count  2.848070e+05  2.848070e+05  2.848070e+05  2.848070e+05  2.848070e+05   \n mean   2.642803e-11 -1.983622e-10 -1.104466e-10  5.347500e-11  2.419927e-11   \n std    1.380247e+00  1.332271e+00  1.237094e+00  1.194353e+00  1.098632e+00   \n min   -1.137433e+02 -2.616051e+01 -4.355724e+01 -7.321672e+01 -1.343407e+01   \n 25%   -4.093779e-01 -6.546632e-01 -4.787135e-01 -1.339191e-01 -5.477089e-01   \n 50%    1.480477e-01 -1.649056e-01  1.590763e-01  7.790153e-02  2.583745e-02   \n 75%    8.613822e-01  4.775488e-01  7.334868e-01  3.706835e-01  7.092122e-01   \n max    3.480167e+01  7.330163e+01  1.205895e+02  2.000721e+01  1.559499e+01   \n \n        ...           V21           V22           V23           V24  \\\n count  ...  2.848070e+05  2.848070e+05  2.848070e+05  2.848070e+05   \n mean   ... -1.142385e-11  4.026303e-11 -9.643035e-12  4.767143e-11   \n std    ...  7.345240e-01  7.257016e-01  6.244603e-01  6.056471e-01   \n min    ... -3.483038e+01 -1.093314e+01 -4.480774e+01 -2.836627e+00   \n 25%    ... -2.256367e-01 -5.250530e-01 -1.301482e-01 -3.241623e-01   \n 50%    ...  6.636310e-03  1.241855e-01  5.160336e-02  6.794774e-02   \n 75%    ...  2.385322e-01  7.308589e-01  2.346538e-01  5.274699e-01   \n max    ...  2.720284e+01  1.050309e+01  2.252841e+01  4.584549e+00   \n \n                 V25           V26           V27           V28         Amount  \\\n count  2.848070e+05  2.848070e+05  2.848070e+05  2.848070e+05  284807.000000   \n mean  -7.220629e-12 -4.453642e-11  2.326476e-11 -1.000977e-11      88.349619   \n std    5.212781e-01  4.822270e-01  4.036325e-01  3.300833e-01     250.120109   \n min   -1.029540e+01 -2.604551e+00 -2.256568e+01 -1.543008e+01       0.000000   \n 25%   -2.218416e-01 -2.821043e-01 -6.089022e-02 -2.762231e-02       6.840000   \n 50%    1.674311e-01 -1.290092e-03  1.088230e-02  2.345040e-02      24.990000   \n 75%    4.190202e-01  2.938470e-01  1.060637e-01  8.061929e-02      84.910004   \n max    7.519588e+00  3.517346e+00  3.161220e+01  3.384781e+01   25691.160156   \n \n                Class  \n count  284807.000000  \n mean        0.001727  \n std         0.041527  \n min         0.000000  \n 25%         0.000000  \n 50%         0.000000  \n 75%         0.000000  \n max         1.000000  \n \n [8 rows x 31 columns],)"
     },
     "execution_count": 44,
     "metadata": {},
     "output_type": "execute_result"
    }
   ],
   "source": [
    "compute(data.describe())"
   ],
   "metadata": {
    "collapsed": false,
    "pycharm": {
     "name": "#%%\n"
    }
   }
  },
  {
   "cell_type": "code",
   "execution_count": 45,
   "outputs": [
    {
     "data": {
      "text/plain": "(Time      0\n V1        0\n V2        0\n V3        0\n V4        0\n V5        0\n V6        0\n V7        0\n V8        0\n V9        0\n V10       0\n V11       0\n V12       0\n V13       0\n V14       0\n V15       0\n V16       0\n V17       0\n V18       0\n V19       0\n V20       0\n V21       0\n V22       0\n V23       0\n V24       0\n V25       0\n V26       0\n V27       0\n V28       0\n Amount    0\n Class     0\n dtype: int64,)"
     },
     "execution_count": 45,
     "metadata": {},
     "output_type": "execute_result"
    }
   ],
   "source": [
    "compute(data.isnull().sum())"
   ],
   "metadata": {
    "collapsed": false,
    "pycharm": {
     "name": "#%%\n"
    }
   }
  },
  {
   "cell_type": "code",
   "execution_count": 46,
   "outputs": [],
   "source": [
    "X = data.drop(columns=['Class'])\n",
    "y = data['Class']"
   ],
   "metadata": {
    "collapsed": false,
    "pycharm": {
     "name": "#%%X = X.drop(columns=['Time'])\n"
    }
   }
  },
  {
   "cell_type": "code",
   "execution_count": 47,
   "outputs": [
    {
     "data": {
      "text/plain": "<matplotlib.axes._subplots.AxesSubplot at 0x7f6588c29a90>"
     },
     "execution_count": 47,
     "metadata": {},
     "output_type": "execute_result"
    },
    {
     "data": {
      "text/plain": "<Figure size 576x576 with 1 Axes>",
      "image/png": "[encoded data removed]"
     },
     "metadata": {},
     "output_type": "display_data"
    }
   ],
   "source": [
    "plt.figure(figsize=(8,8))\n",
    "sns.distplot(X['V1'])\n"
   ],
   "metadata": {
    "collapsed": false,
    "pycharm": {
     "name": "#%%\n"
    }
   }
  }
 ],
 "metadata": {
  "kernelspec": {
   "display_name": "Python 3",
   "language": "python",
   "name": "python3"
  },
  "language_info": {
   "codemirror_mode": {
    "name": "ipython",
    "version": 2
   },
   "file_extension": ".py",
   "mimetype": "text/x-python",
   "name": "python",
   "nbconvert_exporter": "python",
   "pygments_lexer": "ipython2",
   "version": "2.7.6"
  }
 },
 "nbformat": 4,
 "nbformat_minor": 0
}